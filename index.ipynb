{
 "cells": [
  {
   "cell_type": "markdown",
   "metadata": {},
   "source": [
    "# Regression with Linear Algebra - Lab\n",
    "\n",
    "## Introduction\n",
    "\n",
    "In this lab, you'll apply regression analysis using simple matrix manipulations to fit a model to given data, and then predict new values for previously unseen data. You'll follow the approach highlighted in the previous lesson where you used NumPy to build the appropriate matrices and vectors and solve for the $\\beta$ (unknown variables) vector. The beta vector will be used with test data to make new predictions. You'll also evaluate the model fit.\n",
    "In order to make this experiment interesting, you'll use NumPy at every single stage of this experiment, i.e., loading data, creating matrices, performing train-test split, model fitting, and evaluation.\n",
    "  \n",
    "\n",
    "## Objectives\n",
    "\n",
    "In this lab you will:\n",
    "\n",
    "- Use matrix algebra to calculate the parameter values of a linear regression\n",
    "\n",
    "\n",
    "First, let's import necessary libraries: "
   ]
  },
  {
   "cell_type": "code",
   "execution_count": 1,
   "metadata": {},
   "outputs": [],
   "source": [
    "import csv # for reading csv file\n",
    "import numpy as np"
   ]
  },
  {
   "cell_type": "markdown",
   "metadata": {},
   "source": [
    "## Dataset \n",
    "\n",
    "The dataset you'll use for this experiment is \"**Sales Prices in the City of Windsor, Canada**\", something very similar to the Boston Housing dataset. This dataset contains a number of input (independent) variables, including area, number of bedrooms/bathrooms, facilities(AC/garage), etc. and an output (dependent) variable, **price**.  You'll formulate a linear algebra problem to find linear mappings from input features using the equation provided in the previous lesson. \n",
    "\n",
    "This will allow you to find a relationship between house features and house price for the given data, allowing you to find unknown prices for houses, given the input features.  \n",
    "\n",
    "A description of the dataset and included features is available [here](https://rdrr.io/cran/Ecdat/man/Housing.html).\n",
    "\n",
    "In your repository, the dataset is available as `windsor_housing.csv`. There are 11 input features (first 11 columns):\n",
    "\n",
    "\tlotsize\tbedrooms  bathrms  stories\tdriveway  recroom\tfullbase  gashw\t airco  garagepl   prefarea\n",
    "\n",
    "and 1 output feature i.e. **price** (12th column). \n",
    "\n",
    "The focus of this lab is not really answering a preset analytical question, but to learn how you can perform a regression experiment, using mathematical manipulations - similar to the one you performed using `statsmodels`. So you won't be using any `pandas` or `statsmodels` goodness here. The key objectives here are to: \n",
    "\n",
    "- Understand regression with matrix algebra and \n",
    "- Mastery in NumPy scientific computation\n",
    "\n",
    "## Stage 1: Prepare data for modeling \n",
    "\n",
    "Let's give you a head start by importing the dataset. You'll perform the following steps to get the data ready for analysis:\n",
    "\n",
    "* Initialize an empty list `data` for loading data\n",
    "* Read the csv file containing complete (raw) `windsor_housing.csv`. [Use `csv.reader()` for loading data.](https://docs.python.org/3/library/csv.html). Store this in `data` one row at a time \n",
    "\n",
    "* Drop the first row of csv file as it contains the names of variables (header) which won't be used during analysis (keeping this will cause errors as it contains text values) \n",
    "\n",
    "* Append a column of all **1**s to the data (bias) as the first column\n",
    "\n",
    "* Convert `data` to a NumPy array and inspect first few rows \n",
    "\n",
    "> NOTE: `read.csv()` reads the csv as a text file, so you should convert the contents to float."
   ]
  },
  {
   "cell_type": "code",
   "execution_count": 7,
   "metadata": {},
   "outputs": [
    {
     "data": {
      "text/plain": [
       "array([[1.00e+00, 5.85e+03, 3.00e+00, 1.00e+00, 2.00e+00, 1.00e+00,\n",
       "        0.00e+00, 1.00e+00, 0.00e+00, 0.00e+00, 1.00e+00, 0.00e+00,\n",
       "        4.20e+04],\n",
       "       [1.00e+00, 4.00e+03, 2.00e+00, 1.00e+00, 1.00e+00, 1.00e+00,\n",
       "        0.00e+00, 0.00e+00, 0.00e+00, 0.00e+00, 0.00e+00, 0.00e+00,\n",
       "        3.85e+04],\n",
       "       [1.00e+00, 3.06e+03, 3.00e+00, 1.00e+00, 1.00e+00, 1.00e+00,\n",
       "        0.00e+00, 0.00e+00, 0.00e+00, 0.00e+00, 0.00e+00, 0.00e+00,\n",
       "        4.95e+04],\n",
       "       [1.00e+00, 6.65e+03, 3.00e+00, 1.00e+00, 2.00e+00, 1.00e+00,\n",
       "        1.00e+00, 0.00e+00, 0.00e+00, 0.00e+00, 0.00e+00, 0.00e+00,\n",
       "        6.05e+04],\n",
       "       [1.00e+00, 6.36e+03, 2.00e+00, 1.00e+00, 1.00e+00, 1.00e+00,\n",
       "        0.00e+00, 0.00e+00, 0.00e+00, 0.00e+00, 0.00e+00, 0.00e+00,\n",
       "        6.10e+04]])"
      ]
     },
     "execution_count": 7,
     "metadata": {},
     "output_type": "execute_result"
    }
   ],
   "source": [
    "# Your code here\n",
    "data = []\n",
    "\n",
    "with open('windsor_housing.csv') as f:\n",
    "    raw = csv.reader(f)\n",
    "    \n",
    "    # drop first line\n",
    "    next(raw)\n",
    "    \n",
    "    # read in rows\n",
    "    for row in raw:\n",
    "        ones = [1.0]\n",
    "        for r in row:\n",
    "            ones.append(float(r))\n",
    "        data.append(ones)\n",
    "\n",
    "data = np.array(data)\n",
    "data[:5,:]\n",
    "    \n",
    "# First 5 rows of raw data \n",
    "\n",
    "# array([[1.00e+00, 5.85e+03, 3.00e+00, 1.00e+00, 2.00e+00, 1.00e+00,\n",
    "#         0.00e+00, 1.00e+00, 0.00e+00, 0.00e+00, 1.00e+00, 0.00e+00,\n",
    "#         4.20e+04],\n",
    "#        [1.00e+00, 4.00e+03, 2.00e+00, 1.00e+00, 1.00e+00, 1.00e+00,\n",
    "#         0.00e+00, 0.00e+00, 0.00e+00, 0.00e+00, 0.00e+00, 0.00e+00,\n",
    "#         3.85e+04],\n",
    "#        [1.00e+00, 3.06e+03, 3.00e+00, 1.00e+00, 1.00e+00, 1.00e+00,\n",
    "#         0.00e+00, 0.00e+00, 0.00e+00, 0.00e+00, 0.00e+00, 0.00e+00,\n",
    "#         4.95e+04],\n",
    "#        [1.00e+00, 6.65e+03, 3.00e+00, 1.00e+00, 2.00e+00, 1.00e+00,\n",
    "#         1.00e+00, 0.00e+00, 0.00e+00, 0.00e+00, 0.00e+00, 0.00e+00,\n",
    "#         6.05e+04],\n",
    "#        [1.00e+00, 6.36e+03, 2.00e+00, 1.00e+00, 1.00e+00, 1.00e+00,\n",
    "#         0.00e+00, 0.00e+00, 0.00e+00, 0.00e+00, 0.00e+00, 0.00e+00,\n",
    "#         6.10e+04]])"
   ]
  },
  {
   "cell_type": "markdown",
   "metadata": {},
   "source": [
    "## Step 2: Perform a 80/20 train-test split\n",
    "\n",
    "Explore NumPy's official documentation to manually split a dataset using a random sampling method of your choice. Some useful methods are located in the [numpy.random library](https://docs.scipy.org/doc/numpy-1.14.0/reference/routines.random.html).\n",
    "* Perform a **random** 80/20 split on data using a method of your choice in NumPy\n",
    "* Split the data to create `x_train`, `y_train`, `x_test`, and `y_test` arrays \n",
    "* Inspect the contents to see if the split performed as expected\n",
    "\n",
    "> Note: When randomly splitting data, it's always recommended to set a seed in order to ensure reproducibility "
   ]
  },
  {
   "cell_type": "code",
   "execution_count": 35,
   "metadata": {},
   "outputs": [
    {
     "data": {
      "text/plain": [
       "(436, 12)"
      ]
     },
     "execution_count": 35,
     "metadata": {},
     "output_type": "execute_result"
    }
   ],
   "source": [
    "# Your code here \n",
    "np.random.seed(42)\n",
    "indices = np.random.permutation(np.arange(0,546))\n",
    "\n",
    "training_ind = indices[:int(546*.8)]\n",
    "test_ind = indices[int(546*.8):]\n",
    "\n",
    "training = data[training_ind,]\n",
    "test = data[test_ind,]\n",
    "\n",
    "x_train = training[:,:-1]\n",
    "y_train = training[:,-1]\n",
    "\n",
    "x_test = test[:,:-1]\n",
    "y_test = test[:,-1]\n",
    "\n",
    "# Split results\n",
    "#Raw data Shape:  (546, 13)\n",
    "#Train/Test Split: (437, 13) (109, 13)\n",
    "#x_train, y_train, x_test, y_test: (437, 12) (437,) (109, 12) (109,)"
   ]
  },
  {
   "cell_type": "markdown",
   "metadata": {},
   "source": [
    "## Step 3: Calculate the `beta` \n",
    "\n",
    "With $X$ and $y$ in place, you can now compute your beta values with $x_\\text{train}$ and $y_\\text{train}$ as:\n",
    "#### $\\beta = (x_\\text{train}^T. x_\\text{train})^{-1} . x_\\text{train}^T . y_\\text{train}$\n",
    "\n",
    "* Using NumPy operations (transpose, inverse) that we saw earlier, compute the above equation in steps \n",
    "* Print your beta values "
   ]
  },
  {
   "cell_type": "code",
   "execution_count": 37,
   "metadata": {},
   "outputs": [
    {
     "data": {
      "text/plain": [
       "array([-5.38015682e+03,  3.61607721e+00,  2.79537630e+03,  1.46041637e+04,\n",
       "        5.94362097e+03,  5.66768748e+03,  5.79509103e+03,  3.85979509e+03,\n",
       "        8.15013547e+03,  1.32143920e+04,  3.81173934e+03,  1.02195413e+04])"
      ]
     },
     "execution_count": 37,
     "metadata": {},
     "output_type": "execute_result"
    }
   ],
   "source": [
    "# Your code here \n",
    "X = x_train\n",
    "Y = y_train\n",
    "Xt = X.T\n",
    "XtX = Xt.dot(X)\n",
    "XtX_inv = np.linalg.inv(XtX)\n",
    "XtY = Xt.dot(Y)\n",
    "\n",
    "beta = XtX_inv.dot(XtY)\n",
    "beta\n",
    "\n",
    "# Beta values\n",
    "# Due to random split, your answers may vary \n",
    "# [-5.46637290e+03  3.62457767e+00  2.75100964e+03  1.47223649e+04\n",
    "#   5.97774591e+03  5.71916945e+03  5.73109882e+03  3.83586258e+03\n",
    "#   8.12674607e+03  1.33296437e+04  3.74995169e+03  1.01514699e+04]"
   ]
  },
  {
   "cell_type": "markdown",
   "metadata": {},
   "source": [
    "## Step 4: Make predictions\n",
    "Great, you now have a set of coefficients that describe the linear mappings between $X$ and $y$. You can now use the calculated beta values with the test datasets that we left out to calculate $y$ predictions. Next, use all features in turn and multiply it with this beta. The result will give a prediction for each row which you can append to a new array of predictions.\n",
    "\n",
    "$\\hat{y} = x\\beta = \\beta_0 + \\beta_1 x_1 +  \\beta_2 x_2 + \\ldots + \\beta_m x_m $ \n",
    "\n",
    "* Create a new empty list (`y_pred`) for saving predictions\n",
    "* For each row of `x_test`, take the dot product of the row with beta to calculate the prediction for that row\n",
    "* Append the predictions to `y_pred`\n",
    "* Print the new set of predictions"
   ]
  },
  {
   "cell_type": "code",
   "execution_count": 48,
   "metadata": {},
   "outputs": [
    {
     "name": "stdout",
     "output_type": "stream",
     "text": [
      "[90623.70521473931, 56233.50098435093, 75562.96494009186, 76539.04664126057, 67503.75230040077, 41179.66297531616, 39443.9459154876, 62917.528350140594, 52567.06947013628, 91527.26624118698, 48688.442079405795, 103174.44182297454, 114293.73251011633, 103012.89286260262, 66371.77151530651, 49353.58679245505, 41071.180659076876, 120467.55790615546, 62522.0198162628, 46015.79891049533, 33317.16524894916, 45566.75254971489, 56011.03027390326, 57618.61855909285, 71680.2488339502, 59084.713141129665, 72592.32540692431, 106174.15655171429, 57542.13892132008, 64875.96553818167, 67924.50319407025, 97219.44054712245, 73747.1141397735, 71140.17855042321, 108613.56642117487, 40888.020962241666, 92344.05360611282, 55914.90417773081, 86280.49902288089, 48122.53121463039, 43060.02312346376, 65595.68705201257, 98862.3600772111, 40890.376798678066, 69887.88449900359, 105787.56811439422, 47278.92388396009, 79042.94461369787, 63711.62462778031, 61361.22662100243, 55367.93997920504, 55317.82203163036, 41035.019886997114, 53157.011782032016, 65178.04778789572, 84928.5932804348, 117834.41278467173, 75903.30774295144, 49267.76634834698, 101117.1392332002, 84268.69744836734, 43143.34151824494, 43400.32834157535, 56432.31258912657, 33968.05914638487, 91313.00599716612, 41086.0389284706, 89523.51338389142, 65511.034369222056, 55042.593065036905, 107806.88206795609, 89063.1140276773, 50441.373245064475, 100987.84909502386, 64710.921041075395, 93202.71833673835, 82951.5233622888, 39621.13369867844, 63686.4607063222, 87127.00690807258, 69243.72473956323, 51075.804952335064, 79307.2575962474, 61163.90844692355, 72732.90856621906, 67573.82773164894, 57000.88726045204, 63625.232735350706, 72840.60138204537, 52766.82026044832, 74046.80444417849, 66152.89934148623, 50990.22905955321, 73469.39295009527, 70268.59392028523, 49871.50262308128, 36677.64685138584, 112563.88930898903, 78085.52935112943, 48112.33873534117, 100191.39724461135, 58240.190441457205, 61655.74403600072, 94345.15529073938, 79149.01216242465, 50415.50353139046, 47424.579729042984, 66791.5450945165, 89220.12685359044, 70419.9280080146]\n"
     ]
    }
   ],
   "source": [
    "y_pred = []\n",
    "for row in x_test:\n",
    "    pred = row.dot(beta)\n",
    "    y_pred.append(pred)\n",
    "    \n",
    "print(y_pred)"
   ]
  },
  {
   "cell_type": "markdown",
   "metadata": {},
   "source": [
    "## Step 5: Evaluate model \n",
    "\n",
    "### Visualize actual vs. predicted values\n",
    "This is exciting, now your model can use the beta value to predict the price of houses given the input features. Let's plot these predictions against the actual values in `y_test` to see how much our model deviates. "
   ]
  },
  {
   "cell_type": "code",
   "execution_count": 53,
   "metadata": {},
   "outputs": [
    {
     "data": {
      "image/png": "[encoded data removed]",
      "text/plain": [
       "<Figure size 432x288 with 1 Axes>"
      ]
     },
     "metadata": {},
     "output_type": "display_data"
    }
   ],
   "source": [
    "# Plot predicted and actual values as line plots\n",
    "import matplotlib.pyplot as plt\n",
    "%matplotlib inline\n",
    "plt.style.use('ggplot')\n",
    "\n",
    "plt.plot(y_pred,linestyle='-',label='predictions')\n",
    "plt.plot(y_test,linestyle='-',label='actual values')\n",
    "plt.title('Actual vs Predicted Values')\n",
    "plt.legend();"
   ]
  },
  {
   "cell_type": "markdown",
   "metadata": {},
   "source": [
    "This doesn't look so bad, does it? Your model, although isn't perfect at this stage, is making a good attempt to predict house prices although a few prediction seem a bit out. There could be a number of reasons for this. Let's try to dig a bit deeper to check model's predictive abilities by comparing these prediction with actual values of `y_test` individually. That will help you calculate the RMSE value (root mean squared error) for your model. \n",
    "\n",
    "### Root Mean Squared Error\n",
    "Here is the formula for RMSE:  \n",
    "\n",
    "$$ \\large RMSE = \\sqrt{\\sum^N_{i=1}\\dfrac{ (\\text{Predicted}_i-\\text{Actual}_i)^2}{N}}$$\n",
    "\n",
    "* Initialize an empty array `err`\n",
    "* For each row in `y_test` and `y_pred`, take the squared difference and append error for each row in the `err` array\n",
    "* Calculate $RMSE$ from `err` using the formula shown above "
   ]
  },
  {
   "cell_type": "code",
   "execution_count": 55,
   "metadata": {},
   "outputs": [
    {
     "name": "stdout",
     "output_type": "stream",
     "text": [
      "14885.675952225105\n"
     ]
    }
   ],
   "source": [
    "# Calculate RMSE\n",
    "err = []\n",
    "for pred,actual in zip(y_test,y_pred):\n",
    "    sq_err = (pred - actual) ** 2\n",
    "    err.append(sq_err)\n",
    "    \n",
    "RMSE = np.sqrt(np.sum(err)/len(err))\n",
    "print(RMSE)\n",
    "\n",
    "# Due to random split, your answers may vary \n",
    "# RMSE = 14868.172645765708"
   ]
  },
  {
   "cell_type": "markdown",
   "metadata": {},
   "source": [
    "### Normalized root mean squared error\n",
    "The above error is clearly in terms of the dependent variable, i.e., the final house price. You can also use a normalized mean squared error in case of multiple regression which can be calculated from RMSE using following the formula:\n",
    "\n",
    "$$ \\large NRMSE = \\dfrac{RMSE}{max_i y_i - min_i y_i} $$\n",
    "\n",
    "* Calculate normalized RMSE"
   ]
  },
  {
   "cell_type": "code",
   "execution_count": 57,
   "metadata": {},
   "outputs": [
    {
     "name": "stdout",
     "output_type": "stream",
     "text": [
      "0.09021621789227337\n"
     ]
    }
   ],
   "source": [
    "# Calculate NRMSE\n",
    "nrmse = RMSE / (y_train.max()-y_train.min())\n",
    "print(nrmse)\n",
    "\n",
    "# Due to random split, your answers may vary \n",
    "# 0.09011013724706489"
   ]
  },
  {
   "cell_type": "markdown",
   "metadata": {},
   "source": [
    "There it is. A complete multiple regression analysis using nothing but NumPy. Having good programming skills in NumPy allows you to dig deeper into analytical algorithms in machine learning and deep learning. Using matrix multiplication techniques you saw here, you can easily build a whole neural network from scratch. \n",
    "\n",
    "## Level up (Optional)\n",
    "\n",
    "* Calculate the R-squared and adjusted R-squared for the above model \n",
    "* Plot the residuals (similar to `statsmodels`) and comment on the variance and heteroscedasticity\n",
    "* Run the experiment in `statsmodels` and compare the performance of both approaches in terms of computational cost\n",
    "\n",
    "## Summary\n",
    "\n",
    "In this lab, you built a predictive model for predicting house prices. Remember this is a very naive implementation of regression modeling. The purpose here was to get an introduction to the applications of linear algebra into machine learning and predictive analysis. There are a number of shortcomings in this modeling approach and you can further apply a number of data modeling techniques to improve this model. "
   ]
  }
 ],
 "metadata": {
  "kernelspec": {
   "display_name": "Python 3",
   "language": "python",
   "name": "python3"
  },
  "language_info": {
   "codemirror_mode": {
    "name": "ipython",
    "version": 3
   },
   "file_extension": ".py",
   "mimetype": "text/x-python",
   "name": "python",
   "nbconvert_exporter": "python",
   "pygments_lexer": "ipython3",
   "version": "3.8.5"
  }
 },
 "nbformat": 4,
 "nbformat_minor": 2
}
